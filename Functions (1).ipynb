{
  "nbformat": 4,
  "nbformat_minor": 0,
  "metadata": {
    "colab": {
      "provenance": []
    },
    "kernelspec": {
      "name": "python3",
      "display_name": "Python 3"
    },
    "language_info": {
      "name": "python"
    }
  },
  "cells": [
    {
      "cell_type": "code",
      "execution_count": 3,
      "metadata": {
        "id": "mSmBjSg4LMCO"
      },
      "outputs": [],
      "source": []
    },
    {
      "cell_type": "markdown",
      "source": [
        "# Functions"
      ],
      "metadata": {
        "id": "l7BNEyHHLZp9"
      }
    },
    {
      "cell_type": "markdown",
      "source": [
        "1. What is the difference between a function and a method in Python?\n",
        "   - A block of reusable code that performs a specific task.\n",
        "\n",
        "   Defined using def or lambda.\n",
        "\n",
        "   Can be called independently without being tied to an object.\n",
        "2.  Explain the concept of function arguments and parameters in Python.\n",
        "   - Parameters\n",
        "\n",
        "  Placeholders/variables defined in the function definition.\n",
        "\n",
        "  They act as inputs the function expects.\n",
        "3. What are the different ways to define and call a function in Python?\n",
        "   -Defined using def keyword.\n",
        "\n",
        "   Called by writing function name with arguments\n",
        "4. What is the purpose of the `return` statement in a Python function?\n",
        "    -The return statement is used to send back a value from a function to the caller.\n",
        "\n",
        "Without return, a function gives None by default.\n",
        "5. What are iterators in Python and how do they differ from iterables?\n",
        "   -✅Iterable\n",
        "\n",
        "An object capable of returning elements one at a time.\n",
        "\n",
        "Implements __iter__() method.\n",
        "\n",
        "Examples: list, tuple, string, dictionary, set.\n",
        "✅ Iterator\n",
        "\n",
        "An object that produces data on demand.\n",
        "\n",
        "Implements both __iter__() and __next__() methods.\n",
        "\n",
        "Gives next element using next().\n",
        "\n",
        "Raises StopIteration when items are finished.\n",
        "6. Explain the concept of generators in Python and how they are defined.\n",
        "   -Explain the concept of generators in Python and how they are defined.\n",
        "7. What are the advantages of using generators over regular functions?\n",
        "   -Generators produce values one at a time instead of storing the entire sequence in memory.\n",
        "   Values are generated only when needed, which can save computation time.\n",
        "\n",
        "Useful in pipelines where you dont need all results at once.\n",
        "8. What is a lambda function in Python and when is it typically used?\n",
        "   -A lambda function is an anonymous (nameless) function defined using the lambda keyword.\n",
        "\n",
        "Can have any number of arguments, but only one expression.\n",
        "\n",
        "The result of the expression is automatically returned.\n",
        "Used- Inside map() → Apply a function to each element of an iterable.\n",
        "9. Explain the purpose and usage of the `map()` function in Python.\n",
        "   -map() is used to apply a function to every item of an iterable (like list, tuple, etc.) and return a map object (an iterator).\n",
        "\n",
        "Efficient for transforming data without using explicit loops.\n",
        "10. What is the difference between `map()`, `reduce()`, and `filter()` functions in Python?\n",
        "   -| Function       | Purpose                                                                  | Input                             | Output                                     | Example                                                                                      |\n",
        "| -------------- | ------------------------------------------------------------------------ | --------------------------------- | ------------------------------------------ | -------------------------------------------------------------------------------------------- |\n",
        "| **`map()`**    | Applies a function to **every item** in an iterable                      | Function, Iterable                | Iterator (usually converted to list/tuple) | `python nums=[1,2,3] squares=list(map(lambda x:x*x,nums)) # [1,4,9] `                        |\n",
        "| **`filter()`** | Filters elements where function returns **True**                         | Function (returns bool), Iterable | Iterator (filtered items)                  | `python nums=[1,2,3,4] evens=list(filter(lambda x:x%2==0,nums)) # [2,4] `                    |\n",
        "| **`reduce()`** | **Reduces** iterable to a single value by applying function cumulatively | Function (2 args), Iterable       | Single value                               | `python from functools import reduce nums=[1,2,3,4] total=reduce(lambda x,y:x+y,nums) # 10 ` |\n",
        "11. Using pen & Paper write the internal mechanism for sum operation using  reduce function on this given\n",
        "list:[47,11,42,13];\n",
        "   -reduce() applies a function cumulatively to the items of a list.\n",
        "For [47, 11, 42, 13], it starts by adding the first two: 47 + 11 = 58.\n",
        "Then it adds the next element: 58 + 42 = 100.\n",
        "Finally, it adds the last element: 100 + 13 = 113.\n",
        "The final result returned by reduce() is 113.\n",
        "\n",
        "\n",
        "\n",
        "\n",
        "\n",
        "\n",
        "\n",
        "\n",
        "\n",
        "\n",
        "\n",
        "\n",
        "\n",
        "\n",
        "\n",
        "\n",
        "\n",
        "\n",
        "\n",
        "\n",
        "\n",
        "\n",
        "\n",
        "\n",
        "\n",
        "\n",
        "\n"
      ],
      "metadata": {
        "id": "qc5PaPltLswt"
      }
    },
    {
      "cell_type": "code",
      "source": [
        "#1. Write a Python function that takes a list of numbers as input and returns the sum of all even numbers in the list.\n",
        "'''def sum_even(nums):\n",
        "    return sum(n for n in nums if n % 2 == 0)\n",
        "\n",
        "print(sum_even([1, 2, 3, 4, 5, 6]))  # Output: 12\n",
        "'''"
      ],
      "metadata": {
        "colab": {
          "base_uri": "https://localhost:8080/",
          "height": 36
        },
        "id": "XlhZv-LTQ-0M",
        "outputId": "8dcc943d-7d64-4b86-c9f1-acbcbb24993d"
      },
      "execution_count": 1,
      "outputs": [
        {
          "output_type": "execute_result",
          "data": {
            "text/plain": [
              "'def sum_even(nums):\\n    return sum(n for n in nums if n % 2 == 0)\\n\\nprint(sum_even([1, 2, 3, 4, 5, 6]))  # Output: 12\\n'"
            ],
            "application/vnd.google.colaboratory.intrinsic+json": {
              "type": "string"
            }
          },
          "metadata": {},
          "execution_count": 1
        }
      ]
    },
    {
      "cell_type": "code",
      "source": [
        "#2. Create a Python function that accepts a string and returns the reverse of that string.\n",
        "\"\"\"def reverse_string(s):\n",
        "    return s[::-1]\n",
        "\n",
        "print(reverse_string(\"Shahbaz\"))  # Output: zabhahS\"\"\"\n"
      ],
      "metadata": {
        "colab": {
          "base_uri": "https://localhost:8080/",
          "height": 36
        },
        "id": "kZI8quJDRaE8",
        "outputId": "1edc8134-b987-4212-89d5-f4757cb99a09"
      },
      "execution_count": 2,
      "outputs": [
        {
          "output_type": "execute_result",
          "data": {
            "text/plain": [
              "'def reverse_string(s):\\n    return s[::-1]\\n\\nprint(reverse_string(\"Shahbaz\"))  # Output: zabhahS'"
            ],
            "application/vnd.google.colaboratory.intrinsic+json": {
              "type": "string"
            }
          },
          "metadata": {},
          "execution_count": 2
        }
      ]
    },
    {
      "cell_type": "code",
      "source": [
        "#3. Implement a Python function that takes a list of integers and returns a new list containing the squares of each number.\n",
        "'''def squares(nums):\n",
        "    return [n**2 for n in nums]\n",
        "\n",
        "print(squares([1, 2, 3, 4]))  # Output: [1, 4, 9, 16]'''\n"
      ],
      "metadata": {
        "colab": {
          "base_uri": "https://localhost:8080/",
          "height": 36
        },
        "id": "fzyWAsOGRaCM",
        "outputId": "a81d69a5-ba43-4082-a06c-3659b3ba64d8"
      },
      "execution_count": 3,
      "outputs": [
        {
          "output_type": "execute_result",
          "data": {
            "text/plain": [
              "'def squares(nums):\\n    return [n**2 for n in nums]\\n\\nprint(squares([1, 2, 3, 4]))  # Output: [1, 4, 9, 16]'"
            ],
            "application/vnd.google.colaboratory.intrinsic+json": {
              "type": "string"
            }
          },
          "metadata": {},
          "execution_count": 3
        }
      ]
    },
    {
      "cell_type": "code",
      "source": [
        "#4. Write a Python function that checks if a given number is prime or not from 1 to 200.\n",
        "\"\"\"def is_prime(n):\n",
        "    if n < 2:\n",
        "        return False\n",
        "    for i in range(2, int(n**0.5)+1):\n",
        "        if n % i == 0:\n",
        "            return False\n",
        "    return True\n",
        "\n",
        "primes = [n for n in range(1, 201) if is_prime(n)]\n",
        "print(primes)\n",
        "\"\"\""
      ],
      "metadata": {
        "colab": {
          "base_uri": "https://localhost:8080/",
          "height": 53
        },
        "id": "UeJi4ZJ7RZ_V",
        "outputId": "0286c995-3cf0-4e68-e080-a765387907bb"
      },
      "execution_count": 4,
      "outputs": [
        {
          "output_type": "execute_result",
          "data": {
            "text/plain": [
              "'def is_prime(n):\\n    if n < 2:\\n        return False\\n    for i in range(2, int(n**0.5)+1):\\n        if n % i == 0:\\n            return False\\n    return True\\n\\nprimes = [n for n in range(1, 201) if is_prime(n)]\\nprint(primes)\\n'"
            ],
            "application/vnd.google.colaboratory.intrinsic+json": {
              "type": "string"
            }
          },
          "metadata": {},
          "execution_count": 4
        }
      ]
    },
    {
      "cell_type": "code",
      "source": [
        "#5. Create an iterator class in Python that generates the Fibonacci sequence up to a specified number of terms.\n",
        "\"\"\"class Fibonacci:\n",
        "    def __init__(self, terms):\n",
        "        self.terms = terms\n",
        "        self.a, self.b = 0, 1\n",
        "        self.count = 0\n",
        "\n",
        "    def __iter__(self):\n",
        "        return self\n",
        "\n",
        "    def __next__(self):\n",
        "        if self.count >= self.terms:\n",
        "            raise StopIteration\n",
        "        self.count += 1\n",
        "        self.a, self.b = self.b, self.a + self.b\n",
        "        return self.a\n",
        "\n",
        "fib = Fibonacci(10)\n",
        "for num in fib:\n",
        "    print(num, end=\" \")  # Output: 1 1 2 3 5 8 13 21 34 55\"\"\"\n"
      ],
      "metadata": {
        "colab": {
          "base_uri": "https://localhost:8080/",
          "height": 70
        },
        "id": "6czU8ZmoRZ1M",
        "outputId": "1a479187-bfdf-4c63-9207-e768c2d02f29"
      },
      "execution_count": 5,
      "outputs": [
        {
          "output_type": "execute_result",
          "data": {
            "text/plain": [
              "'class Fibonacci:\\n    def __init__(self, terms):\\n        self.terms = terms\\n        self.a, self.b = 0, 1\\n        self.count = 0\\n\\n    def __iter__(self):\\n        return self\\n\\n    def __next__(self):\\n        if self.count >= self.terms:\\n            raise StopIteration\\n        self.count += 1\\n        self.a, self.b = self.b, self.a + self.b\\n        return self.a\\n\\nfib = Fibonacci(10)\\nfor num in fib:\\n    print(num, end=\" \")  # Output: 1 1 2 3 5 8 13 21 34 55'"
            ],
            "application/vnd.google.colaboratory.intrinsic+json": {
              "type": "string"
            }
          },
          "metadata": {},
          "execution_count": 5
        }
      ]
    },
    {
      "cell_type": "code",
      "source": [
        "#6. Write a generator function in Python that yields the powers of 2 up to a given exponent.\n",
        "\"\"\"def powers_of_two(n):\n",
        "    for i in range(n+1):\n",
        "        yield 2**i\n",
        "\n",
        "for val in powers_of_two(5):\n",
        "    print(val, end=\" \")  # Output: 1 2 4 8 16 32\"\"\"\n"
      ],
      "metadata": {
        "colab": {
          "base_uri": "https://localhost:8080/",
          "height": 36
        },
        "id": "vq90clP9RZtM",
        "outputId": "cedc109a-b5de-4304-877d-2cee24ceb7c3"
      },
      "execution_count": 6,
      "outputs": [
        {
          "output_type": "execute_result",
          "data": {
            "text/plain": [
              "'def powers_of_two(n):\\n    for i in range(n+1):\\n        yield 2**i\\n\\nfor val in powers_of_two(5):\\n    print(val, end=\" \")  # Output: 1 2 4 8 16 32'"
            ],
            "application/vnd.google.colaboratory.intrinsic+json": {
              "type": "string"
            }
          },
          "metadata": {},
          "execution_count": 6
        }
      ]
    },
    {
      "cell_type": "code",
      "source": [
        "#7. Implement a generator function that reads a file line by line and yields each line as a string.\n",
        "\"\"\"def read_file(filename):\n",
        "    with open(filename, 'r') as file:\n",
        "        for line in file:\n",
        "            yield line.strip()\n",
        "\n",
        "# Usage example:\n",
        "# for line in read_file(\"sample.txt\"):\n",
        "#     print(line)\n",
        "\"\"\""
      ],
      "metadata": {
        "colab": {
          "base_uri": "https://localhost:8080/",
          "height": 53
        },
        "id": "9Jh0VDvoRsBU",
        "outputId": "3f61dcc0-ffd0-4edb-bba2-cc6bafc86866"
      },
      "execution_count": 7,
      "outputs": [
        {
          "output_type": "execute_result",
          "data": {
            "text/plain": [
              "'def read_file(filename):\\n    with open(filename, \\'r\\') as file:\\n        for line in file:\\n            yield line.strip()\\n\\n# Usage example:\\n# for line in read_file(\"sample.txt\"):\\n#     print(line)\\n'"
            ],
            "application/vnd.google.colaboratory.intrinsic+json": {
              "type": "string"
            }
          },
          "metadata": {},
          "execution_count": 7
        }
      ]
    },
    {
      "cell_type": "code",
      "source": [
        "#8. Use a lambda function in Python to sort a list of tuples based on the second element of each tuple.\n",
        "\"\"\"data = [(1, 3), (2, 1), (4, 2)]\n",
        "sorted_data = sorted(data, key=lambda x: x[1])\n",
        "print(sorted_data)  # Output: [(2, 1), (4, 2), (1, 3)]\n",
        "\"\"\"\n"
      ],
      "metadata": {
        "colab": {
          "base_uri": "https://localhost:8080/",
          "height": 36
        },
        "id": "GL2FNz5NR2NU",
        "outputId": "e7e2f68e-d275-49ee-d180-fa21fb0f71d4"
      },
      "execution_count": 8,
      "outputs": [
        {
          "output_type": "execute_result",
          "data": {
            "text/plain": [
              "'data = [(1, 3), (2, 1), (4, 2)]\\nsorted_data = sorted(data, key=lambda x: x[1])\\nprint(sorted_data)  # Output: [(2, 1), (4, 2), (1, 3)]\\n'"
            ],
            "application/vnd.google.colaboratory.intrinsic+json": {
              "type": "string"
            }
          },
          "metadata": {},
          "execution_count": 8
        }
      ]
    },
    {
      "cell_type": "code",
      "source": [
        "#9. Write a Python program that uses map() to convert a list of temperatures from Celsius to Fahrenheit.\n",
        "\"\"\"celsius = [0, 20, 30, 40]\n",
        "fahrenheit = list(map(lambda c: (c * 9/5) + 32, celsius))\n",
        "print(fahrenheit)  # Output: [32.0, 68.0, 86.0, 104.0]\n",
        "\"\"\""
      ],
      "metadata": {
        "colab": {
          "base_uri": "https://localhost:8080/",
          "height": 36
        },
        "id": "evMq8neER2Js",
        "outputId": "26b34974-bda4-4f00-c78c-c6432fcffbe8"
      },
      "execution_count": 11,
      "outputs": [
        {
          "output_type": "execute_result",
          "data": {
            "text/plain": [
              "'celsius = [0, 20, 30, 40]\\nfahrenheit = list(map(lambda c: (c * 9/5) + 32, celsius))\\nprint(fahrenheit)  # Output: [32.0, 68.0, 86.0, 104.0]\\n'"
            ],
            "application/vnd.google.colaboratory.intrinsic+json": {
              "type": "string"
            }
          },
          "metadata": {},
          "execution_count": 11
        }
      ]
    },
    {
      "cell_type": "code",
      "source": [
        "#10. Create a Python program that uses filter() to remove all the vowels from a given string.\n",
        "\"\"\"def remove_vowels(s):\n",
        "    return ''.join(filter(lambda ch: ch.lower() not in 'aeiou', s))\n",
        "\n",
        "print(remove_vowels(\"Shahbaz\"))  # Output: Shhbz\n",
        "\"\"\""
      ],
      "metadata": {
        "colab": {
          "base_uri": "https://localhost:8080/",
          "height": 36
        },
        "id": "vj75-hqDR6O8",
        "outputId": "43d524c4-8562-48cc-b682-b49f16dccc67"
      },
      "execution_count": 12,
      "outputs": [
        {
          "output_type": "execute_result",
          "data": {
            "text/plain": [
              "'def remove_vowels(s):\\n    return \\'\\'.join(filter(lambda ch: ch.lower() not in \\'aeiou\\', s))\\n\\nprint(remove_vowels(\"Shahbaz\"))  # Output: Shhbz\\n'"
            ],
            "application/vnd.google.colaboratory.intrinsic+json": {
              "type": "string"
            }
          },
          "metadata": {},
          "execution_count": 12
        }
      ]
    },
    {
      "cell_type": "code",
      "source": [
        "#11) Imagine an accounting routine used in a book shop. It works on a list with sublists, which look like this: Order Number Book Title and Author 34587 Learning Python, Mark Lutz 4 98762 Programming Python, Mark Lutz 77226 Head First Python, Paul Barry 5 88112 Einführung in Python3, Bernd Klein 3 Quantity Price per Item 40.95 56.80 3 32.95 24.99 Write a Python program, which returns a list with 2-tuples. Each tuple consists of the order number and the product of the price per item and the quantity. The product should be increased by 10,- € if the value of the order is smaller than 100,00 €. Write a Python program using lambda and map.\n",
        "\"\"\"# Data: [Order Number, Book Title, Quantity, Price per Item]\n",
        "orders = [\n",
        "    [34587, \"Learning Python, Mark Lutz\", 4, 40.95],\n",
        "    [98762, \"Programming Python, Mark Lutz\", 77226, 56.80],  # looks like quantity is huge? assuming 77226\n",
        "    [88112, \"Einführung in Python3, Bernd Klein\", 3, 32.95],\n",
        "    [77226, \"Head First Python, Paul Barry\", 5, 24.99]\n",
        "]\n",
        "\n",
        "# Function to calculate total price\n",
        "def calc_total(order):\n",
        "    order_num = order[0]\n",
        "    qty = order[2]\n",
        "    price = order[3]\n",
        "    total = qty * price\n",
        "    if total < 100:\n",
        "        total += 10\n",
        "    return (order_num, round(total, 2))\n",
        "\n",
        "# Using map with lambda\n",
        "totals = list(map(lambda x: calc_total(x), orders))\n",
        "\n",
        "print(totals)\n",
        "\"\"\""
      ],
      "metadata": {
        "colab": {
          "base_uri": "https://localhost:8080/",
          "height": 88
        },
        "id": "Qkz5O0a-T0Ls",
        "outputId": "56473528-5f6f-46a9-a84a-413880f82d29"
      },
      "execution_count": 13,
      "outputs": [
        {
          "output_type": "execute_result",
          "data": {
            "text/plain": [
              "'# Data: [Order Number, Book Title, Quantity, Price per Item]\\norders = [\\n    [34587, \"Learning Python, Mark Lutz\", 4, 40.95],\\n    [98762, \"Programming Python, Mark Lutz\", 77226, 56.80],  # looks like quantity is huge? assuming 77226\\n    [88112, \"Einführung in Python3, Bernd Klein\", 3, 32.95],\\n    [77226, \"Head First Python, Paul Barry\", 5, 24.99]\\n]\\n\\n# Function to calculate total price\\ndef calc_total(order):\\n    order_num = order[0]\\n    qty = order[2]\\n    price = order[3]\\n    total = qty * price\\n    if total < 100:\\n        total += 10\\n    return (order_num, round(total, 2))\\n\\n# Using map with lambda\\ntotals = list(map(lambda x: calc_total(x), orders))\\n\\nprint(totals)\\n'"
            ],
            "application/vnd.google.colaboratory.intrinsic+json": {
              "type": "string"
            }
          },
          "metadata": {},
          "execution_count": 13
        }
      ]
    }
  ]
}